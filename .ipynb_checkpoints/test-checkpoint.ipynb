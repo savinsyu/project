{
 "cells": [
  {
   "cell_type": "code",
   "execution_count": 17,
   "id": "1177d679",
   "metadata": {},
   "outputs": [
    {
     "name": "stdout",
     "output_type": "stream",
     "text": [
      "12\n"
     ]
    }
   ],
   "source": [
    "import sqlite3\n",
    "\n",
    "\n",
    "def get_db_connection():\n",
    "    conn = sqlite3.connect(\"database.db\")\n",
    "    conn.row_factory = sqlite3.Row\n",
    "    return conn\n",
    "\n",
    "\n",
    "def close_db_connection(conn):\n",
    "    conn.close()\n",
    "\n",
    "\n",
    "conn = get_db_connection()\n",
    "cur = conn.cursor()\n",
    "sql_list_count = cur.execute(\"SELECT COUNT(*) FROM sql\")\n",
    "sql_list_count_print = sql_list_count.fetchone()\n",
    "sql_list_count_print_int = int(sql_list_count_print[0])\n",
    "sql_list = conn.execute(\"SELECT * FROM sql\").fetchall()\n",
    "conn.close()\n",
    "print(sql_list_count_print_int)"
   ]
  }
 ],
 "metadata": {
  "kernelspec": {
   "display_name": "Python 3 (ipykernel)",
   "language": "python",
   "name": "python3"
  },
  "language_info": {
   "codemirror_mode": {
    "name": "ipython",
    "version": 3
   },
   "file_extension": ".py",
   "mimetype": "text/x-python",
   "name": "python",
   "nbconvert_exporter": "python",
   "pygments_lexer": "ipython3",
   "version": "3.11.3"
  }
 },
 "nbformat": 4,
 "nbformat_minor": 5
}
